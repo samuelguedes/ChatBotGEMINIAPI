{
  "nbformat": 4,
  "nbformat_minor": 0,
  "metadata": {
    "colab": {
      "provenance": [],
      "authorship_tag": "ABX9TyNtG4bmzVNXxS09cURa5b9b",
      "include_colab_link": true
    },
    "kernelspec": {
      "name": "python3",
      "display_name": "Python 3"
    },
    "language_info": {
      "name": "python"
    }
  },
  "cells": [
    {
      "cell_type": "markdown",
      "metadata": {
        "id": "view-in-github",
        "colab_type": "text"
      },
      "source": [
        "<a href=\"https://colab.research.google.com/github/samuelguedes/ChatBotGEMINIAPI/blob/main/ChatBotGEMINIAPI.ipynb\" target=\"_parent\"><img src=\"https://colab.research.google.com/assets/colab-badge.svg\" alt=\"Open In Colab\"/></a>"
      ]
    },
    {
      "cell_type": "markdown",
      "source": [
        "Instalar SDKs do google AI"
      ],
      "metadata": {
        "id": "Slv4uHRkfUpO"
      }
    },
    {
      "cell_type": "code",
      "execution_count": 37,
      "metadata": {
        "id": "jqUflFJhfQN7"
      },
      "outputs": [],
      "source": [
        "!pip install -q -U google-generativeai"
      ]
    },
    {
      "cell_type": "markdown",
      "source": [
        "Importar API e setar API_KEY"
      ],
      "metadata": {
        "id": "1rTFqcH2fx7D"
      }
    },
    {
      "cell_type": "code",
      "source": [
        "# Import the Python SDK\n",
        "import google.generativeai as genai\n",
        "from google.colab import userdata\n",
        "\n",
        "GOOGLE_API_KEY=userdata.get('SECRET_KEY')\n",
        "genai.configure(api_key=GOOGLE_API_KEY)"
      ],
      "metadata": {
        "id": "2G6DxN4Rfe40"
      },
      "execution_count": 38,
      "outputs": []
    },
    {
      "cell_type": "markdown",
      "source": [
        "Escolher o modelo do GEMINI"
      ],
      "metadata": {
        "id": "g9M3gMhQhaEL"
      }
    },
    {
      "cell_type": "code",
      "source": [
        "model = genai.GenerativeModel('gemini-pro')"
      ],
      "metadata": {
        "id": "bAdjpeYFhFLp"
      },
      "execution_count": 39,
      "outputs": []
    },
    {
      "cell_type": "markdown",
      "source": [
        "Listando modelos"
      ],
      "metadata": {
        "id": "CvyfDo8Ilefm"
      }
    },
    {
      "cell_type": "code",
      "source": [
        "for m in genai.list_models():\n",
        "  if 'generateContent' in m.supported_generation_methods:\n",
        "    print(m.name)"
      ],
      "metadata": {
        "colab": {
          "base_uri": "https://localhost:8080/",
          "height": 139
        },
        "id": "k8Zr0wBFhn3S",
        "outputId": "6dfba76b-e164-4030-ffaf-f70431d875ef"
      },
      "execution_count": 40,
      "outputs": [
        {
          "output_type": "stream",
          "name": "stdout",
          "text": [
            "models/gemini-1.0-pro\n",
            "models/gemini-1.0-pro-001\n",
            "models/gemini-1.0-pro-latest\n",
            "models/gemini-1.0-pro-vision-latest\n",
            "models/gemini-1.5-pro-latest\n",
            "models/gemini-pro\n",
            "models/gemini-pro-vision\n"
          ]
        }
      ]
    },
    {
      "cell_type": "markdown",
      "source": [
        "Definindo variáveis de configurações"
      ],
      "metadata": {
        "id": "nFIFawzpLr20"
      }
    },
    {
      "cell_type": "code",
      "source": [
        "generation_config = {\n",
        "    \"candidate_count\": 1,\n",
        "    \"temperature\": 0.5\n",
        "}"
      ],
      "metadata": {
        "id": "Ld5AEkjtlcO-"
      },
      "execution_count": 41,
      "outputs": []
    },
    {
      "cell_type": "code",
      "source": [
        "safety_settings = {\n",
        "    \"HARASSMENT\": \"BLOCK_NONE\",\n",
        "    \"HATE\": \"BLOCK_NONE\",\n",
        "    \"SEXUAL\": \"BLOCK_NONE\",\n",
        "    \"DANGEROUS\": \"BLOCK_NONE\"\n",
        "}"
      ],
      "metadata": {
        "id": "iPXJaRGBmP4c"
      },
      "execution_count": 42,
      "outputs": []
    },
    {
      "cell_type": "code",
      "source": [],
      "metadata": {
        "id": "OdDQd7Tsmwi3"
      },
      "execution_count": null,
      "outputs": []
    },
    {
      "cell_type": "markdown",
      "source": [
        "Inicializando o Modelo"
      ],
      "metadata": {
        "id": "vCdPO4tIyMIa"
      }
    },
    {
      "cell_type": "code",
      "source": [
        "model = genai.GenerativeModel(model_name=\"gemini-1.0-pro\",\n",
        "                              generation_config=generation_config,\n",
        "                              safety_settings=safety_settings)"
      ],
      "metadata": {
        "id": "HGjOSm4JyPaR"
      },
      "execution_count": 43,
      "outputs": []
    },
    {
      "cell_type": "markdown",
      "source": [
        "Gerando o conteúdo e testando tudo até aqui"
      ],
      "metadata": {
        "id": "D66ILzYR0eyF"
      }
    },
    {
      "cell_type": "code",
      "source": [
        "response = model.generate_content(\"Vamos aprender conteúdos sobre AI. Mê dê sugestões.\")\n",
        "print(response.text)"
      ],
      "metadata": {
        "colab": {
          "base_uri": "https://localhost:8080/",
          "height": 677
        },
        "id": "2iSZwa3C0kWd",
        "outputId": "3ae0cd4d-d574-4694-e3d2-8c4a886497ba"
      },
      "execution_count": 44,
      "outputs": [
        {
          "output_type": "stream",
          "name": "stdout",
          "text": [
            "**Conceitos Fundamentais:**\n",
            "\n",
            "* Inteligência Artificial (IA): Definição, tipos e aplicações\n",
            "* Aprendizado de Máquina (ML): Algoritmos, técnicas e tipos\n",
            "* Aprendizado Profundo (DL): Redes neurais, convolutivas e recorrentes\n",
            "* Visão Computacional: Reconhecimento de imagem, processamento de imagem e visão artificial\n",
            "* Processamento de Linguagem Natural (PNL): Reconhecimento de fala, tradução automática e análise de sentimento\n",
            "\n",
            "**Técnicas e Algoritmos:**\n",
            "\n",
            "* Algoritmos supervisionados e não supervisionados\n",
            "* Regressão linear e logística\n",
            "* Árvores de decisão e florestas aleatórias\n",
            "* Máquinas de Vetores de Suporte (SVMs)\n",
            "* Redes Neurais Artificiais (ANNs)\n",
            "* Redes Neurais Convolutivas (CNNs)\n",
            "* Redes Neurais Recorrentes (RNNs)\n",
            "\n",
            "**Aplicações:**\n",
            "\n",
            "* Automação de processos\n",
            "* Análise preditiva\n",
            "* Reconhecimento de padrões\n",
            "* Tomada de decisão auxiliada\n",
            "* Chatbots e assistentes virtuais\n",
            "\n",
            "**Ferramentas e Bibliotecas:**\n",
            "\n",
            "* Python (com bibliotecas como NumPy, Pandas, Scikit-learn e TensorFlow)\n",
            "* R (com bibliotecas como tidyverse, caret e keras)\n",
            "* Bibliotecas de IA específicas (como PyTorch, Keras e Caffe)\n",
            "\n",
            "**Ética e Implicações Sociais:**\n",
            "\n",
            "* Viés em IA\n",
            "* Privacidade e segurança de dados\n",
            "* Impacto no emprego e na sociedade\n",
            "* Regulamentações e diretrizes éticas para IA\n"
          ]
        }
      ]
    },
    {
      "cell_type": "markdown",
      "source": [],
      "metadata": {
        "id": "iRlSQAFr2m61"
      }
    },
    {
      "cell_type": "markdown",
      "source": [
        "Criando o chatbot"
      ],
      "metadata": {
        "id": "SuIe_Wkc2sN_"
      }
    },
    {
      "cell_type": "code",
      "source": [
        "chat = model.start_chat(history=[])"
      ],
      "metadata": {
        "id": "J1ZKSxr22mP4"
      },
      "execution_count": 45,
      "outputs": []
    },
    {
      "cell_type": "code",
      "source": [
        "prompt = input(\"Esperando o prompt: \")\n",
        "\n",
        "while prompt != \"fim\":\n",
        "  response = chat.send_message(prompt)\n",
        "  print(\"Resposta: \", response.text, \"\\n\")\n",
        "  prompt = input(\"Esperando o prompt: \")\n"
      ],
      "metadata": {
        "colab": {
          "base_uri": "https://localhost:8080/",
          "height": 746
        },
        "id": "gOZ2jRh43RWJ",
        "outputId": "f6606fe0-1e2b-4ce1-f395-5e95306abd9c"
      },
      "execution_count": 46,
      "outputs": [
        {
          "name": "stdout",
          "output_type": "stream",
          "text": [
            "Esperando o prompt: Teste\n",
            "Resposta:  **Teste de Habilidades e Conhecimentos**\n",
            "\n",
            "**Nome:**\n",
            "\n",
            "**Data:**\n",
            "\n",
            "**Instruções:**\n",
            "\n",
            "* Leia atentamente cada questão antes de responder.\n",
            "* Responda a todas as perguntas da melhor forma possível.\n",
            "* Não use calculadora ou materiais de referência.\n",
            "\n",
            "**Seção 1: Habilidades Cognitivas**\n",
            "\n",
            "1. Resolva a seguinte equação: 2x + 5 = 15\n",
            "2. Encontre o sinônimo da palavra \"inteligente\":\n",
            "3. Identifique o erro gramatical na seguinte frase: \"Eles estão indo ao cinema.\"\n",
            "4. Complete o seguinte padrão numérico: 2, 4, 6, 8, ___, 12\n",
            "5. Classifique o seguinte triângulo:\n",
            "\n",
            "    [Imagem de um triângulo retângulo]\n",
            "\n",
            "**Seção 2: Conhecimentos Gerais**\n",
            "\n",
            "1. Qual é a capital da França?\n",
            "2. Quem escreveu o romance \"Dom Quixote\"?\n",
            "3. Qual é o maior oceano do mundo?\n",
            "4. Qual é o nome do primeiro-ministro do Reino Unido?\n",
            "5. Qual é a fórmula química da água?\n",
            "\n",
            "**Seção 3: Habilidades de Raciocínio**\n",
            "\n",
            "1. Um trem sai de Nova York às 10h00 e viaja a 80 km/h. Outro trem sai de Los Angeles às 11h00 e viaja a 100 km/h. Se a distância entre Nova York e Los Angeles é de 4.000 km, a que horas os dois trens se encontrarão?\n",
            "2. Uma loja vende maçãs por R$ 1,00 cada e laranjas por R$ 0,50 cada. Se um cliente compra 10 maçãs e 5 laranjas, quanto ele gastará?\n",
            "3. Um fazendeiro tem 12 vacas e 8 porcos. Se ele vender metade de suas vacas e um quarto de seus porcos, quantos animais ele terá restantes?\n",
            "\n",
            "**Seção 4: Habilidades de Redação**\n",
            "\n",
            "Escreva um parágrafo curto descrevendo sua experiência favorita. \n",
            "\n",
            "Esperando o prompt: fim\n"
          ]
        }
      ]
    },
    {
      "cell_type": "code",
      "source": [
        "chat"
      ],
      "metadata": {
        "colab": {
          "base_uri": "https://localhost:8080/"
        },
        "id": "mz7rCvqE4udO",
        "outputId": "9e86f441-15fa-4dcc-9132-db2cc699a676"
      },
      "execution_count": 48,
      "outputs": [
        {
          "output_type": "execute_result",
          "data": {
            "text/plain": [
              "ChatSession(\n",
              "    model=genai.GenerativeModel(\n",
              "        model_name='models/gemini-1.0-pro',\n",
              "        generation_config={'candidate_count': 1, 'temperature': 0.5},\n",
              "        safety_settings={<HarmCategory.HARM_CATEGORY_HARASSMENT: 7>: <HarmBlockThreshold.BLOCK_NONE: 4>, <HarmCategory.HARM_CATEGORY_HATE_SPEECH: 8>: <HarmBlockThreshold.BLOCK_NONE: 4>, <HarmCategory.HARM_CATEGORY_SEXUALLY_EXPLICIT: 9>: <HarmBlockThreshold.BLOCK_NONE: 4>, <HarmCategory.HARM_CATEGORY_DANGEROUS_CONTENT: 10>: <HarmBlockThreshold.BLOCK_NONE: 4>},\n",
              "        tools=None,\n",
              "        system_instruction=None,\n",
              "    ),\n",
              "    history=[glm.Content({'parts': [{'text': 'Teste'}], 'role': 'user'}), glm.Content({'parts': [{'text': '**Teste de H...cia favorita.'}], 'role': 'model'})]\n",
              ")"
            ]
          },
          "metadata": {},
          "execution_count": 48
        }
      ]
    },
    {
      "cell_type": "code",
      "source": [
        "chat.history"
      ],
      "metadata": {
        "colab": {
          "base_uri": "https://localhost:8080/"
        },
        "id": "13wHtRC157IK",
        "outputId": "32fb23da-a13b-459e-e176-6d1485bdc253"
      },
      "execution_count": 49,
      "outputs": [
        {
          "output_type": "execute_result",
          "data": {
            "text/plain": [
              "[parts {\n",
              "   text: \"Teste\"\n",
              " }\n",
              " role: \"user\",\n",
              " parts {\n",
              "   text: \"**Teste de Habilidades e Conhecimentos**\\n\\n**Nome:**\\n\\n**Data:**\\n\\n**Instru\\303\\247\\303\\265es:**\\n\\n* Leia atentamente cada quest\\303\\243o antes de responder.\\n* Responda a todas as perguntas da melhor forma poss\\303\\255vel.\\n* N\\303\\243o use calculadora ou materiais de refer\\303\\252ncia.\\n\\n**Se\\303\\247\\303\\243o 1: Habilidades Cognitivas**\\n\\n1. Resolva a seguinte equa\\303\\247\\303\\243o: 2x + 5 = 15\\n2. Encontre o sin\\303\\264nimo da palavra \\\"inteligente\\\":\\n3. Identifique o erro gramatical na seguinte frase: \\\"Eles est\\303\\243o indo ao cinema.\\\"\\n4. Complete o seguinte padr\\303\\243o num\\303\\251rico: 2, 4, 6, 8, ___, 12\\n5. Classifique o seguinte tri\\303\\242ngulo:\\n\\n    [Imagem de um tri\\303\\242ngulo ret\\303\\242ngulo]\\n\\n**Se\\303\\247\\303\\243o 2: Conhecimentos Gerais**\\n\\n1. Qual \\303\\251 a capital da Fran\\303\\247a?\\n2. Quem escreveu o romance \\\"Dom Quixote\\\"?\\n3. Qual \\303\\251 o maior oceano do mundo?\\n4. Qual \\303\\251 o nome do primeiro-ministro do Reino Unido?\\n5. Qual \\303\\251 a f\\303\\263rmula qu\\303\\255mica da \\303\\241gua?\\n\\n**Se\\303\\247\\303\\243o 3: Habilidades de Racioc\\303\\255nio**\\n\\n1. Um trem sai de Nova York \\303\\240s 10h00 e viaja a 80 km/h. Outro trem sai de Los Angeles \\303\\240s 11h00 e viaja a 100 km/h. Se a dist\\303\\242ncia entre Nova York e Los Angeles \\303\\251 de 4.000 km, a que horas os dois trens se encontrar\\303\\243o?\\n2. Uma loja vende ma\\303\\247\\303\\243s por R$ 1,00 cada e laranjas por R$ 0,50 cada. Se um cliente compra 10 ma\\303\\247\\303\\243s e 5 laranjas, quanto ele gastar\\303\\241?\\n3. Um fazendeiro tem 12 vacas e 8 porcos. Se ele vender metade de suas vacas e um quarto de seus porcos, quantos animais ele ter\\303\\241 restantes?\\n\\n**Se\\303\\247\\303\\243o 4: Habilidades de Reda\\303\\247\\303\\243o**\\n\\nEscreva um par\\303\\241grafo curto descrevendo sua experi\\303\\252ncia favorita.\"\n",
              " }\n",
              " role: \"model\"]"
            ]
          },
          "metadata": {},
          "execution_count": 49
        }
      ]
    },
    {
      "cell_type": "markdown",
      "source": [
        "Exibição mais bonita"
      ],
      "metadata": {
        "id": "VYu_HvL67wMp"
      }
    },
    {
      "cell_type": "code",
      "source": [
        "import textwrap\n",
        "from IPython.display import display\n",
        "from IPython.display import Markdown\n",
        "\n",
        "def to_markdown(text):\n",
        "  text = text.replace('•', '  *')\n",
        "  return Markdown(textwrap.indent(text, '>', predicate=lambda _: True))\n",
        "\n",
        "#Imprimindo o histórico\n",
        "for message in chat.history:\n",
        "  display(to_markdown(f'**{message.role}**: {message.parts[0].text}'))\n",
        "  print('---------------------------------------------------')"
      ],
      "metadata": {
        "colab": {
          "base_uri": "https://localhost:8080/",
          "height": 748
        },
        "id": "XtTad3yz6JeY",
        "outputId": "bf82de3d-5b46-4900-874c-4a111b3bc3aa"
      },
      "execution_count": 50,
      "outputs": [
        {
          "output_type": "display_data",
          "data": {
            "text/plain": [
              "<IPython.core.display.Markdown object>"
            ],
            "text/markdown": ">**user**: Teste"
          },
          "metadata": {}
        },
        {
          "output_type": "stream",
          "name": "stdout",
          "text": [
            "---------------------------------------------------\n"
          ]
        },
        {
          "output_type": "display_data",
          "data": {
            "text/plain": [
              "<IPython.core.display.Markdown object>"
            ],
            "text/markdown": ">**model**: **Teste de Habilidades e Conhecimentos**\n>\n>**Nome:**\n>\n>**Data:**\n>\n>**Instruções:**\n>\n>* Leia atentamente cada questão antes de responder.\n>* Responda a todas as perguntas da melhor forma possível.\n>* Não use calculadora ou materiais de referência.\n>\n>**Seção 1: Habilidades Cognitivas**\n>\n>1. Resolva a seguinte equação: 2x + 5 = 15\n>2. Encontre o sinônimo da palavra \"inteligente\":\n>3. Identifique o erro gramatical na seguinte frase: \"Eles estão indo ao cinema.\"\n>4. Complete o seguinte padrão numérico: 2, 4, 6, 8, ___, 12\n>5. Classifique o seguinte triângulo:\n>\n>    [Imagem de um triângulo retângulo]\n>\n>**Seção 2: Conhecimentos Gerais**\n>\n>1. Qual é a capital da França?\n>2. Quem escreveu o romance \"Dom Quixote\"?\n>3. Qual é o maior oceano do mundo?\n>4. Qual é o nome do primeiro-ministro do Reino Unido?\n>5. Qual é a fórmula química da água?\n>\n>**Seção 3: Habilidades de Raciocínio**\n>\n>1. Um trem sai de Nova York às 10h00 e viaja a 80 km/h. Outro trem sai de Los Angeles às 11h00 e viaja a 100 km/h. Se a distância entre Nova York e Los Angeles é de 4.000 km, a que horas os dois trens se encontrarão?\n>2. Uma loja vende maçãs por R$ 1,00 cada e laranjas por R$ 0,50 cada. Se um cliente compra 10 maçãs e 5 laranjas, quanto ele gastará?\n>3. Um fazendeiro tem 12 vacas e 8 porcos. Se ele vender metade de suas vacas e um quarto de seus porcos, quantos animais ele terá restantes?\n>\n>**Seção 4: Habilidades de Redação**\n>\n>Escreva um parágrafo curto descrevendo sua experiência favorita."
          },
          "metadata": {}
        },
        {
          "output_type": "stream",
          "name": "stdout",
          "text": [
            "---------------------------------------------------\n"
          ]
        }
      ]
    }
  ]
}